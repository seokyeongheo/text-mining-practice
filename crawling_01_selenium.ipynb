{
 "cells": [
  {
   "cell_type": "markdown",
   "metadata": {},
   "source": [
    "# SETUP"
   ]
  },
  {
   "cell_type": "code",
   "execution_count": 63,
   "metadata": {},
   "outputs": [],
   "source": [
    "from selenium import webdriver\n",
    "from bs4 import BeautifulSoup\n",
    "from IPython.display import clear_output\n",
    "\n",
    "import requests\n",
    "import pandas as pd\n",
    "import time"
   ]
  },
  {
   "cell_type": "markdown",
   "metadata": {},
   "source": [
    "---"
   ]
  },
  {
   "cell_type": "markdown",
   "metadata": {},
   "source": [
    "### brunch login"
   ]
  },
  {
   "cell_type": "code",
   "execution_count": null,
   "metadata": {},
   "outputs": [],
   "source": [
    "url = \"https://accounts.kakao.com/login?continue=https://kauth.kakao.com/oauth/authorize?client_id%3De0201caea90cafbb237e250f63a519b5%26response_type%3Dcode%26redirect_uri%3Dhttps%253A%252F%252Fbrunch.co.kr%252Fcallback%252Fauth%252Fkakao%26scope%3D%26state%3DaHR0cHM6Ly9icnVuY2guY28ua3IvL3NpZ25pbi9maW5pc2g_dXJsPSUyRg%26grant_type%3Dauthorization_code\"\n",
    "browser = webdriver.Chrome()\n",
    "browser.get(url)"
   ]
  },
  {
   "cell_type": "code",
   "execution_count": null,
   "metadata": {},
   "outputs": [],
   "source": [
    "brunch_id = browser.find_element_by_xpath('//*[@id=\"loginEmail\"]')\n",
    "brunch_id.send_keys('syh602@gmail.com')\n",
    "\n",
    "pw = input('Enter Password : ')\n",
    "\n",
    "brunch_pw = browser.find_element_by_xpath('//*[@id=\"loginPw\"]')\n",
    "brunch_pw.send_keys(pw)\n",
    "\n",
    "brunch_submit = browser.find_element_by_class_name('submit')\n",
    "brunch_submit.click()"
   ]
  },
  {
   "cell_type": "code",
   "execution_count": 17,
   "metadata": {},
   "outputs": [],
   "source": [
    "browser.quit()"
   ]
  },
  {
   "cell_type": "markdown",
   "metadata": {},
   "source": [
    "---"
   ]
  },
  {
   "cell_type": "markdown",
   "metadata": {},
   "source": [
    "### comment crawling (Google Play App)"
   ]
  },
  {
   "cell_type": "code",
   "execution_count": 34,
   "metadata": {},
   "outputs": [
    {
     "name": "stdout",
     "output_type": "stream",
     "text": [
      "6982\n",
      "12364 \n",
      "\n",
      "12364\n",
      "17855 \n",
      "\n",
      "17855\n",
      "23063 \n",
      "\n",
      "23063\n",
      "23140 \n",
      "\n",
      "23140\n",
      "27842 \n",
      "\n",
      "27842\n",
      "27842 \n",
      "\n",
      "do not move any more, click /see more/ \n",
      "27842\n",
      "31414 \n",
      "\n",
      "31414\n",
      "31894 \n",
      "\n",
      "31894\n",
      "31894 \n",
      "\n",
      "do not move any more, click /see more/ \n",
      "There is no more pages, stop scrolling.\n"
     ]
    }
   ],
   "source": [
    "# open webdriver, get url\n",
    "url = \"https://play.google.com/store/apps/details?id=com.enuma.todomath&showAllReviews=true\"\n",
    "driver = webdriver.Chrome()\n",
    "driver.get(url)\n",
    "\n",
    "# make html, soup\n",
    "\n",
    "last_height = driver.execute_script(\"return document.body.scrollHeight\")\n",
    "\n",
    "while True:\n",
    "    print(last_height)\n",
    "    driver.execute_script(\"window.scrollTo(0, document.body.scrollHeight);\")\n",
    "\n",
    "    # wait 1 sec\n",
    "    time.sleep(1)\n",
    "\n",
    "    # calculate the length\n",
    "    new_height = driver.execute_script('return document.body.scrollHeight')\n",
    "    print(new_height, \"\\n\")\n",
    "    \n",
    "    # move to 2400\n",
    "    # driver.execute_script('window.scrollTo(0, 2400);')\n",
    "\n",
    "    # break if scroll doesn't move\n",
    "    if new_height == last_height:\n",
    "        print(\"do not move any more, click /see more/ \")\n",
    "        \n",
    "        try:\n",
    "            submit = driver.find_element_by_class_name('RveJvd')\n",
    "            submit.click()\n",
    "        except:\n",
    "            print(\"There is no more pages, stop scrolling.\")\n",
    "            break\n",
    "\n",
    "    last_height = new_height"
   ]
  },
  {
   "cell_type": "code",
   "execution_count": null,
   "metadata": {},
   "outputs": [],
   "source": [
    "# get page sourse, parse html\n",
    "html = driver.page_source\n",
    "soup = BeautifulSoup(html, 'html.parser')"
   ]
  },
  {
   "cell_type": "code",
   "execution_count": 49,
   "metadata": {},
   "outputs": [
    {
     "data": {
      "text/plain": [
       "(245, 245, 245)"
      ]
     },
     "execution_count": 49,
     "metadata": {},
     "output_type": "execute_result"
    }
   ],
   "source": [
    "# make list\n",
    "date_list = []\n",
    "score_list = []\n",
    "text_list = []\n",
    "\n",
    "# selecting\n",
    "div_add = soup.find('div', {'class': 'LXrl4c'})\n",
    "div_add_revise = div_add.findAll('span', {'jsname':\"bN97Pc\"})\n",
    "\n",
    "# appending\n",
    "for text in div_add_revise:\n",
    "    text_list.append(text.get_text())\n",
    "\n",
    "for k in range(len(text_list)):\n",
    "\n",
    "    try:\n",
    "        date = div_add.findAll('span',{'class':'p2TkOb'})[k].text\n",
    "        date_list.append(date)\n",
    "\n",
    "        if str(div_add.findAll('div',{'class':'pf5lIe'})[k].div['aria-label'])[11:12]==\".\":\n",
    "            score = float(str(div_add.findAll('div',{'class':'pf5lIe'})[k].div['aria-label'])[10:13])\n",
    "        else:\n",
    "            score = float(str(div_add.findAll('div',{'class':'pf5lIe'})[k].div['aria-label'])[10:11])\n",
    "        score_list.append(score)\n",
    "    except:\n",
    "        print(\"Error\")\n",
    "        continue\n",
    "\n",
    "# check\n",
    "len(date_list), len(text_list), len(score_list)"
   ]
  },
  {
   "cell_type": "code",
   "execution_count": 54,
   "metadata": {},
   "outputs": [
    {
     "data": {
      "text/html": [
       "<div>\n",
       "<style scoped>\n",
       "    .dataframe tbody tr th:only-of-type {\n",
       "        vertical-align: middle;\n",
       "    }\n",
       "\n",
       "    .dataframe tbody tr th {\n",
       "        vertical-align: top;\n",
       "    }\n",
       "\n",
       "    .dataframe thead th {\n",
       "        text-align: right;\n",
       "    }\n",
       "</style>\n",
       "<table border=\"1\" class=\"dataframe\">\n",
       "  <thead>\n",
       "    <tr style=\"text-align: right;\">\n",
       "      <th></th>\n",
       "      <th>date</th>\n",
       "      <th>score</th>\n",
       "      <th>text</th>\n",
       "    </tr>\n",
       "  </thead>\n",
       "  <tbody>\n",
       "    <tr>\n",
       "      <th>239</th>\n",
       "      <td>2016년 6월 10일</td>\n",
       "      <td>5.0</td>\n",
       "      <td>굿</td>\n",
       "    </tr>\n",
       "    <tr>\n",
       "      <th>240</th>\n",
       "      <td>2016년 6월 14일</td>\n",
       "      <td>5.0</td>\n",
       "      <td>좋네요</td>\n",
       "    </tr>\n",
       "    <tr>\n",
       "      <th>241</th>\n",
       "      <td>2017년 5월 27일</td>\n",
       "      <td>5.0</td>\n",
       "      <td>좋아</td>\n",
       "    </tr>\n",
       "    <tr>\n",
       "      <th>242</th>\n",
       "      <td>2016년 6월 11일</td>\n",
       "      <td>5.0</td>\n",
       "      <td>굿  굿  굿</td>\n",
       "    </tr>\n",
       "    <tr>\n",
       "      <th>243</th>\n",
       "      <td>2016년 10월 28일</td>\n",
       "      <td>5.0</td>\n",
       "      <td>최고예요😄☺🙂😊😁</td>\n",
       "    </tr>\n",
       "  </tbody>\n",
       "</table>\n",
       "</div>"
      ],
      "text/plain": [
       "              date  score       text\n",
       "239   2016년 6월 10일    5.0          굿\n",
       "240   2016년 6월 14일    5.0        좋네요\n",
       "241   2017년 5월 27일    5.0         좋아\n",
       "242   2016년 6월 11일    5.0    굿  굿  굿\n",
       "243  2016년 10월 28일    5.0  최고예요😄☺🙂😊😁"
      ]
     },
     "execution_count": 54,
     "metadata": {},
     "output_type": "execute_result"
    }
   ],
   "source": [
    "data_raw = pd.DataFrame(columns=['date', 'score', 'text'])\n",
    "data_raw['date'] = date_list[:-1]\n",
    "data_raw['score'] = score_list[1:]\n",
    "data_raw['text'] = text_list[:-1]\n",
    "data_raw.tail()"
   ]
  },
  {
   "cell_type": "code",
   "execution_count": 55,
   "metadata": {},
   "outputs": [],
   "source": [
    "data_raw.to_pickle('todomath_data_03.pkl')"
   ]
  },
  {
   "cell_type": "code",
   "execution_count": 60,
   "metadata": {},
   "outputs": [
    {
     "data": {
      "text/html": [
       "<div>\n",
       "<style scoped>\n",
       "    .dataframe tbody tr th:only-of-type {\n",
       "        vertical-align: middle;\n",
       "    }\n",
       "\n",
       "    .dataframe tbody tr th {\n",
       "        vertical-align: top;\n",
       "    }\n",
       "\n",
       "    .dataframe thead th {\n",
       "        text-align: right;\n",
       "    }\n",
       "</style>\n",
       "<table border=\"1\" class=\"dataframe\">\n",
       "  <thead>\n",
       "    <tr style=\"text-align: right;\">\n",
       "      <th></th>\n",
       "      <th>date</th>\n",
       "      <th>score</th>\n",
       "      <th>text</th>\n",
       "    </tr>\n",
       "  </thead>\n",
       "  <tbody>\n",
       "    <tr>\n",
       "      <th>239</th>\n",
       "      <td>2016년 10월 23일</td>\n",
       "      <td>1.0</td>\n",
       "      <td>뭐....아이들 수학 잘되네요</td>\n",
       "    </tr>\n",
       "    <tr>\n",
       "      <th>240</th>\n",
       "      <td>2016년 10월 23일</td>\n",
       "      <td>5.0</td>\n",
       "      <td>저 4학년인데 왤케 쉬워요 1학년도 할수 있을것 같아요 아 진짜... 그래도 전 수...</td>\n",
       "    </tr>\n",
       "    <tr>\n",
       "      <th>241</th>\n",
       "      <td>2016년 10월 21일</td>\n",
       "      <td>5.0</td>\n",
       "      <td>수학을 힘들어하는 초등학교 자녀가 재미있어 하네요</td>\n",
       "    </tr>\n",
       "    <tr>\n",
       "      <th>242</th>\n",
       "      <td>2016년 10월 15일</td>\n",
       "      <td>1.0</td>\n",
       "      <td>다 좋은데 '사용 여부 문의'도 없이 자동결제는 좀. . .그렇네요. 여기와서 구독...</td>\n",
       "    </tr>\n",
       "    <tr>\n",
       "      <th>243</th>\n",
       "      <td>2016년 10월 10일</td>\n",
       "      <td>5.0</td>\n",
       "      <td>아들이 토도수학 좋아해요</td>\n",
       "    </tr>\n",
       "  </tbody>\n",
       "</table>\n",
       "</div>"
      ],
      "text/plain": [
       "              date  score                                               text\n",
       "239  2016년 10월 23일    1.0                                   뭐....아이들 수학 잘되네요\n",
       "240  2016년 10월 23일    5.0  저 4학년인데 왤케 쉬워요 1학년도 할수 있을것 같아요 아 진짜... 그래도 전 수...\n",
       "241  2016년 10월 21일    5.0                        수학을 힘들어하는 초등학교 자녀가 재미있어 하네요\n",
       "242  2016년 10월 15일    1.0  다 좋은데 '사용 여부 문의'도 없이 자동결제는 좀. . .그렇네요. 여기와서 구독...\n",
       "243  2016년 10월 10일    5.0                                      아들이 토도수학 좋아해요"
      ]
     },
     "execution_count": 60,
     "metadata": {},
     "output_type": "execute_result"
    }
   ],
   "source": [
    "data_revise = data_raw.sort_values(by='date', ascending=False)\n",
    "data_revise.reset_index(drop=True, inplace=True)\n",
    "data_revise.tail()"
   ]
  },
  {
   "cell_type": "code",
   "execution_count": 61,
   "metadata": {},
   "outputs": [],
   "source": [
    "data_revise.to_pickle('todomath_data_04.pkl')"
   ]
  },
  {
   "cell_type": "code",
   "execution_count": 62,
   "metadata": {},
   "outputs": [],
   "source": [
    "driver.quit()"
   ]
  },
  {
   "cell_type": "markdown",
   "metadata": {},
   "source": [
    "---"
   ]
  },
  {
   "cell_type": "markdown",
   "metadata": {},
   "source": [
    "### stock crawling "
   ]
  },
  {
   "cell_type": "code",
   "execution_count": 78,
   "metadata": {},
   "outputs": [
    {
     "data": {
      "text/html": [
       "<div>\n",
       "<style scoped>\n",
       "    .dataframe tbody tr th:only-of-type {\n",
       "        vertical-align: middle;\n",
       "    }\n",
       "\n",
       "    .dataframe tbody tr th {\n",
       "        vertical-align: top;\n",
       "    }\n",
       "\n",
       "    .dataframe thead th {\n",
       "        text-align: right;\n",
       "    }\n",
       "</style>\n",
       "<table border=\"1\" class=\"dataframe\">\n",
       "  <thead>\n",
       "    <tr style=\"text-align: right;\">\n",
       "      <th></th>\n",
       "      <th>name</th>\n",
       "      <th>stock</th>\n",
       "    </tr>\n",
       "  </thead>\n",
       "  <tbody>\n",
       "    <tr>\n",
       "      <th>0</th>\n",
       "      <td>한화케미칼</td>\n",
       "      <td>21,250</td>\n",
       "    </tr>\n",
       "    <tr>\n",
       "      <th>1</th>\n",
       "      <td>KODEX 레버리지</td>\n",
       "      <td>11,695</td>\n",
       "    </tr>\n",
       "    <tr>\n",
       "      <th>2</th>\n",
       "      <td>KODEX 코스닥150선물인버스</td>\n",
       "      <td>7,400</td>\n",
       "    </tr>\n",
       "    <tr>\n",
       "      <th>3</th>\n",
       "      <td>삼성에스디에스</td>\n",
       "      <td>213,500</td>\n",
       "    </tr>\n",
       "    <tr>\n",
       "      <th>4</th>\n",
       "      <td>삼성전자우</td>\n",
       "      <td>32,900</td>\n",
       "    </tr>\n",
       "    <tr>\n",
       "      <th>5</th>\n",
       "      <td>LG전자</td>\n",
       "      <td>66,000</td>\n",
       "    </tr>\n",
       "    <tr>\n",
       "      <th>6</th>\n",
       "      <td>삼성바이오로직스</td>\n",
       "      <td>404,000</td>\n",
       "    </tr>\n",
       "  </tbody>\n",
       "</table>\n",
       "</div>"
      ],
      "text/plain": [
       "                name    stock\n",
       "0              한화케미칼   21,250\n",
       "1         KODEX 레버리지   11,695\n",
       "2  KODEX 코스닥150선물인버스    7,400\n",
       "3            삼성에스디에스  213,500\n",
       "4              삼성전자우   32,900\n",
       "5               LG전자   66,000\n",
       "6           삼성바이오로직스  404,000"
      ]
     },
     "execution_count": 78,
     "metadata": {},
     "output_type": "execute_result"
    }
   ],
   "source": [
    "url = \"https://finance.naver.com/sise/sise_deal_rank.nhn\"\n",
    "req = requests.get(url)\n",
    "soup = BeautifulSoup(req.content, 'html.parser')\n",
    "\n",
    "# 인기검색어 리스트 가져오기\n",
    "table_doc = soup.find('table', {'class': 'type_r1'})\n",
    "\n",
    "# make list (name, stock)\n",
    "name_list = []\n",
    "stock_list = []\n",
    "\n",
    "# append name, stock\n",
    "for k in range(7):\n",
    "    name_list.append(table_doc.find_all('a', {'class':'company'})[k].text)\n",
    "    stock_list.append(table_doc.find_all('td', {'class':'number'})[k].text)\n",
    "\n",
    "# make df (name, stock)\n",
    "data_raw = pd.DataFrame(columns=['name', 'stock'])\n",
    "data_raw['name'] = name_list\n",
    "data_raw['stock'] = stock_list\n",
    "data_raw"
   ]
  },
  {
   "cell_type": "code",
   "execution_count": null,
   "metadata": {},
   "outputs": [],
   "source": []
  },
  {
   "cell_type": "code",
   "execution_count": null,
   "metadata": {},
   "outputs": [],
   "source": []
  },
  {
   "cell_type": "code",
   "execution_count": null,
   "metadata": {},
   "outputs": [],
   "source": []
  },
  {
   "cell_type": "code",
   "execution_count": null,
   "metadata": {},
   "outputs": [],
   "source": []
  },
  {
   "cell_type": "code",
   "execution_count": null,
   "metadata": {},
   "outputs": [],
   "source": []
  },
  {
   "cell_type": "code",
   "execution_count": null,
   "metadata": {},
   "outputs": [],
   "source": []
  },
  {
   "cell_type": "code",
   "execution_count": null,
   "metadata": {},
   "outputs": [],
   "source": []
  },
  {
   "cell_type": "code",
   "execution_count": null,
   "metadata": {},
   "outputs": [],
   "source": []
  }
 ],
 "metadata": {
  "kernelspec": {
   "display_name": "Python 3",
   "language": "python",
   "name": "python3"
  },
  "language_info": {
   "codemirror_mode": {
    "name": "ipython",
    "version": 3
   },
   "file_extension": ".py",
   "mimetype": "text/x-python",
   "name": "python",
   "nbconvert_exporter": "python",
   "pygments_lexer": "ipython3",
   "version": "3.6.5"
  }
 },
 "nbformat": 4,
 "nbformat_minor": 2
}
