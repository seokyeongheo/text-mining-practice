{
 "cells": [
  {
   "cell_type": "markdown",
   "metadata": {},
   "source": [
    "# SETUP"
   ]
  },
  {
   "cell_type": "code",
   "execution_count": 111,
   "metadata": {},
   "outputs": [],
   "source": [
    "import requests\n",
    "import time\n",
    "import pandas as pd\n",
    "\n",
    "from selenium import webdriver\n",
    "from bs4 import BeautifulSoup"
   ]
  },
  {
   "cell_type": "markdown",
   "metadata": {},
   "source": [
    "---"
   ]
  },
  {
   "cell_type": "code",
   "execution_count": 112,
   "metadata": {},
   "outputs": [
    {
     "name": "stdin",
     "output_type": "stream",
     "text": [
      "Enter Google ID :  syh602\n",
      "Enter Google PW :  ········\n"
     ]
    },
    {
     "ename": "TypeError",
     "evalue": "object of type 'WebElement' has no len()",
     "output_type": "error",
     "traceback": [
      "\u001b[0;31m---------------------------------------------------------------------------\u001b[0m",
      "\u001b[0;31mTypeError\u001b[0m                                 Traceback (most recent call last)",
      "\u001b[0;32m<ipython-input-112-e61786d98dd5>\u001b[0m in \u001b[0;36m<module>\u001b[0;34m()\u001b[0m\n\u001b[1;32m     14\u001b[0m \u001b[0;34m\u001b[0m\u001b[0m\n\u001b[1;32m     15\u001b[0m \u001b[0mgoogle_id\u001b[0m \u001b[0;34m=\u001b[0m \u001b[0mdriver\u001b[0m\u001b[0;34m.\u001b[0m\u001b[0mfind_element_by_xpath\u001b[0m\u001b[0;34m(\u001b[0m\u001b[0;34m'//*[@id=\"identifierId\"]'\u001b[0m\u001b[0;34m)\u001b[0m\u001b[0;34m\u001b[0m\u001b[0m\n\u001b[0;32m---> 16\u001b[0;31m \u001b[0mgoogle_id\u001b[0m\u001b[0;34m.\u001b[0m\u001b[0msend_keys\u001b[0m\u001b[0;34m(\u001b[0m\u001b[0mgoogle_id\u001b[0m\u001b[0;34m)\u001b[0m\u001b[0;34m\u001b[0m\u001b[0m\n\u001b[0m\u001b[1;32m     17\u001b[0m \u001b[0;34m\u001b[0m\u001b[0m\n\u001b[1;32m     18\u001b[0m \u001b[0mtime\u001b[0m\u001b[0;34m.\u001b[0m\u001b[0msleep\u001b[0m\u001b[0;34m(\u001b[0m\u001b[0;36m1\u001b[0m\u001b[0;34m)\u001b[0m\u001b[0;34m\u001b[0m\u001b[0m\n",
      "\u001b[0;32m/usr/local/lib/python3.6/site-packages/selenium/webdriver/remote/webelement.py\u001b[0m in \u001b[0;36msend_keys\u001b[0;34m(self, *value)\u001b[0m\n\u001b[1;32m    476\u001b[0m \u001b[0;34m\u001b[0m\u001b[0m\n\u001b[1;32m    477\u001b[0m         self._execute(Command.SEND_KEYS_TO_ELEMENT,\n\u001b[0;32m--> 478\u001b[0;31m                       {'text': \"\".join(keys_to_typing(value)),\n\u001b[0m\u001b[1;32m    479\u001b[0m                        'value': keys_to_typing(value)})\n\u001b[1;32m    480\u001b[0m \u001b[0;34m\u001b[0m\u001b[0m\n",
      "\u001b[0;32m/usr/local/lib/python3.6/site-packages/selenium/webdriver/common/utils.py\u001b[0m in \u001b[0;36mkeys_to_typing\u001b[0;34m(value)\u001b[0m\n\u001b[1;32m    148\u001b[0m                 \u001b[0mtyping\u001b[0m\u001b[0;34m.\u001b[0m\u001b[0mappend\u001b[0m\u001b[0;34m(\u001b[0m\u001b[0mval\u001b[0m\u001b[0;34m[\u001b[0m\u001b[0mi\u001b[0m\u001b[0;34m]\u001b[0m\u001b[0;34m)\u001b[0m\u001b[0;34m\u001b[0m\u001b[0m\n\u001b[1;32m    149\u001b[0m         \u001b[0;32melse\u001b[0m\u001b[0;34m:\u001b[0m\u001b[0;34m\u001b[0m\u001b[0m\n\u001b[0;32m--> 150\u001b[0;31m             \u001b[0;32mfor\u001b[0m \u001b[0mi\u001b[0m \u001b[0;32min\u001b[0m \u001b[0mrange\u001b[0m\u001b[0;34m(\u001b[0m\u001b[0mlen\u001b[0m\u001b[0;34m(\u001b[0m\u001b[0mval\u001b[0m\u001b[0;34m)\u001b[0m\u001b[0;34m)\u001b[0m\u001b[0;34m:\u001b[0m\u001b[0;34m\u001b[0m\u001b[0m\n\u001b[0m\u001b[1;32m    151\u001b[0m                 \u001b[0mtyping\u001b[0m\u001b[0;34m.\u001b[0m\u001b[0mappend\u001b[0m\u001b[0;34m(\u001b[0m\u001b[0mval\u001b[0m\u001b[0;34m[\u001b[0m\u001b[0mi\u001b[0m\u001b[0;34m]\u001b[0m\u001b[0;34m)\u001b[0m\u001b[0;34m\u001b[0m\u001b[0m\n\u001b[1;32m    152\u001b[0m     \u001b[0;32mreturn\u001b[0m \u001b[0mtyping\u001b[0m\u001b[0;34m\u001b[0m\u001b[0m\n",
      "\u001b[0;31mTypeError\u001b[0m: object of type 'WebElement' has no len()"
     ]
    }
   ],
   "source": [
    "# log-in\n",
    "\n",
    "insert_id = input('Enter Google ID : ')\n",
    "insert_pw = getpass.getpass('Enter Google PW : ')\n",
    "\n",
    "url = \"https://www.rocketpunch.com/login\"\n",
    "driver = webdriver.Chrome()\n",
    "driver.get(url)\n",
    "\n",
    "login_google = driver.find_element_by_xpath('//*[@id=\"login-main\"]/div[3]/a[2]')\n",
    "login_google.click()\n",
    "\n",
    "time.sleep(1)\n",
    "\n",
    "google_id = driver.find_element_by_xpath('//*[@id=\"identifierId\"]')\n",
    "google_id.send_keys(insert_id)\n",
    "\n",
    "time.sleep(1)\n",
    "\n",
    "google_id_submit = driver.find_element_by_xpath('//*[@id=\"identifierNext\"]/content')\n",
    "google_id_submit.click()\n",
    "\n",
    "time.sleep(1)\n",
    "\n",
    "google_pw = driver.find_element_by_xpath('//*[@id=\"password\"]/div[1]/div/div[1]/input')\n",
    "google_pw.send_keys(insert_pw)\n",
    "\n",
    "time.sleep(1)\n",
    "\n",
    "google_pw_submit = driver.find_element_by_xpath('//*[@id=\"passwordNext\"]/content/span')\n",
    "google_pw_submit.click()\n",
    "\n",
    "time.sleep(1)"
   ]
  },
  {
   "cell_type": "code",
   "execution_count": 108,
   "metadata": {},
   "outputs": [
    {
     "name": "stdout",
     "output_type": "stream",
     "text": [
      "The loop is ended. You have 11 bookmarks.\n"
     ]
    }
   ],
   "source": [
    "url = \"https://www.rocketpunch.com/@quartz/bookmark\"\n",
    "driver.get(url)\n",
    "\n",
    "time.sleep(1)\n",
    "\n",
    "# get page sourse, parse html\n",
    "html = driver.page_source\n",
    "soup = BeautifulSoup(html, 'html.parser')\n",
    "\n",
    "date_list = []\n",
    "company_list = []\n",
    "job_list = []\n",
    "salary_list = []\n",
    "condition_list = []\n",
    "special_list = []\n",
    "\n",
    "for i in range(100):\n",
    "\n",
    "    try:\n",
    "        date = soup.findAll('div', {'class': 'job-dates'})\n",
    "        date = date[i].text.split(\"\\n\")[2].strip()\n",
    "        date_list.append(date)\n",
    "\n",
    "        company = soup.findAll('div', {'class': 'company-name'})\n",
    "        company = company[i].text.split('\\n')[2].strip()\n",
    "        company_list.append(company)\n",
    "\n",
    "        job = soup.findAll('a', {'class': 'nowrap job-title'})\n",
    "        job = job[i].text\n",
    "        job_list.append(job)\n",
    "\n",
    "        salary_condition = soup.findAll('div', {'class': 'job-stat-info'})\n",
    "        salary = salary_condition[i].text.split(\"/\")[0].strip()\n",
    "        condition = salary_condition[i].text.split(\"/\")[1].strip()\n",
    "        salary_list.append(salary)\n",
    "        condition_list.append(condition)\n",
    "\n",
    "        special = soup.findAll('div', {'class': 'nowrap job-specialties'})\n",
    "        special = special[i].text\n",
    "        special_list.append(special)\n",
    "    except:\n",
    "        print(\"The loop is ended. You have %d bookmarks.\" % (i))\n",
    "        break\n",
    "    \n",
    "data_job = pd.DataFrame(columns=['date', 'company', 'job', 'salary', 'condition', 'special'])\n",
    "data_job['date'] = date_list\n",
    "data_job['company'] = company_list\n",
    "data_job['job'] = job_list\n",
    "data_job['salary'] = salary_list\n",
    "data_job['condition'] = condition_list\n",
    "data_job['special'] = special_list\n",
    "data_job.to_excel('rocketpunch_bookmark.xlsx', sheet_name='rocketpunch_01')"
   ]
  },
  {
   "cell_type": "code",
   "execution_count": null,
   "metadata": {},
   "outputs": [],
   "source": [
    "driver.quit()"
   ]
  },
  {
   "cell_type": "code",
   "execution_count": null,
   "metadata": {},
   "outputs": [],
   "source": []
  },
  {
   "cell_type": "code",
   "execution_count": null,
   "metadata": {},
   "outputs": [],
   "source": []
  },
  {
   "cell_type": "code",
   "execution_count": null,
   "metadata": {},
   "outputs": [],
   "source": []
  },
  {
   "cell_type": "code",
   "execution_count": null,
   "metadata": {},
   "outputs": [],
   "source": []
  },
  {
   "cell_type": "code",
   "execution_count": null,
   "metadata": {},
   "outputs": [],
   "source": []
  },
  {
   "cell_type": "code",
   "execution_count": 110,
   "metadata": {},
   "outputs": [
    {
     "name": "stdin",
     "output_type": "stream",
     "text": [
      "Enter Google ID :  syh602\n",
      "Enter Google PW :  ········\n"
     ]
    },
    {
     "ename": "TypeError",
     "evalue": "object of type 'WebElement' has no len()",
     "output_type": "error",
     "traceback": [
      "\u001b[0;31m---------------------------------------------------------------------------\u001b[0m",
      "\u001b[0;31mTypeError\u001b[0m                                 Traceback (most recent call last)",
      "\u001b[0;32m<ipython-input-110-ab157a80b8d8>\u001b[0m in \u001b[0;36m<module>\u001b[0;34m()\u001b[0m\n\u001b[1;32m     33\u001b[0m \u001b[0;34m\u001b[0m\u001b[0m\n\u001b[1;32m     34\u001b[0m \u001b[0mgoogle_pw\u001b[0m \u001b[0;34m=\u001b[0m \u001b[0mdriver\u001b[0m\u001b[0;34m.\u001b[0m\u001b[0mfind_element_by_xpath\u001b[0m\u001b[0;34m(\u001b[0m\u001b[0;34m'//*[@id=\"password\"]/div[1]/div/div[1]/input'\u001b[0m\u001b[0;34m)\u001b[0m\u001b[0;34m\u001b[0m\u001b[0m\n\u001b[0;32m---> 35\u001b[0;31m \u001b[0mgoogle_pw\u001b[0m\u001b[0;34m.\u001b[0m\u001b[0msend_keys\u001b[0m\u001b[0;34m(\u001b[0m\u001b[0mgoogle_pw\u001b[0m\u001b[0;34m)\u001b[0m\u001b[0;34m\u001b[0m\u001b[0m\n\u001b[0m\u001b[1;32m     36\u001b[0m \u001b[0;34m\u001b[0m\u001b[0m\n\u001b[1;32m     37\u001b[0m \u001b[0mtime\u001b[0m\u001b[0;34m.\u001b[0m\u001b[0msleep\u001b[0m\u001b[0;34m(\u001b[0m\u001b[0;36m1\u001b[0m\u001b[0;34m)\u001b[0m\u001b[0;34m\u001b[0m\u001b[0m\n",
      "\u001b[0;32m/usr/local/lib/python3.6/site-packages/selenium/webdriver/remote/webelement.py\u001b[0m in \u001b[0;36msend_keys\u001b[0;34m(self, *value)\u001b[0m\n\u001b[1;32m    476\u001b[0m \u001b[0;34m\u001b[0m\u001b[0m\n\u001b[1;32m    477\u001b[0m         self._execute(Command.SEND_KEYS_TO_ELEMENT,\n\u001b[0;32m--> 478\u001b[0;31m                       {'text': \"\".join(keys_to_typing(value)),\n\u001b[0m\u001b[1;32m    479\u001b[0m                        'value': keys_to_typing(value)})\n\u001b[1;32m    480\u001b[0m \u001b[0;34m\u001b[0m\u001b[0m\n",
      "\u001b[0;32m/usr/local/lib/python3.6/site-packages/selenium/webdriver/common/utils.py\u001b[0m in \u001b[0;36mkeys_to_typing\u001b[0;34m(value)\u001b[0m\n\u001b[1;32m    148\u001b[0m                 \u001b[0mtyping\u001b[0m\u001b[0;34m.\u001b[0m\u001b[0mappend\u001b[0m\u001b[0;34m(\u001b[0m\u001b[0mval\u001b[0m\u001b[0;34m[\u001b[0m\u001b[0mi\u001b[0m\u001b[0;34m]\u001b[0m\u001b[0;34m)\u001b[0m\u001b[0;34m\u001b[0m\u001b[0m\n\u001b[1;32m    149\u001b[0m         \u001b[0;32melse\u001b[0m\u001b[0;34m:\u001b[0m\u001b[0;34m\u001b[0m\u001b[0m\n\u001b[0;32m--> 150\u001b[0;31m             \u001b[0;32mfor\u001b[0m \u001b[0mi\u001b[0m \u001b[0;32min\u001b[0m \u001b[0mrange\u001b[0m\u001b[0;34m(\u001b[0m\u001b[0mlen\u001b[0m\u001b[0;34m(\u001b[0m\u001b[0mval\u001b[0m\u001b[0;34m)\u001b[0m\u001b[0;34m)\u001b[0m\u001b[0;34m:\u001b[0m\u001b[0;34m\u001b[0m\u001b[0m\n\u001b[0m\u001b[1;32m    151\u001b[0m                 \u001b[0mtyping\u001b[0m\u001b[0;34m.\u001b[0m\u001b[0mappend\u001b[0m\u001b[0;34m(\u001b[0m\u001b[0mval\u001b[0m\u001b[0;34m[\u001b[0m\u001b[0mi\u001b[0m\u001b[0;34m]\u001b[0m\u001b[0;34m)\u001b[0m\u001b[0;34m\u001b[0m\u001b[0m\n\u001b[1;32m    152\u001b[0m     \u001b[0;32mreturn\u001b[0m \u001b[0mtyping\u001b[0m\u001b[0;34m\u001b[0m\u001b[0m\n",
      "\u001b[0;31mTypeError\u001b[0m: object of type 'WebElement' has no len()"
     ]
    }
   ],
   "source": [
    "# SETUP\n",
    "import getpass\n",
    "import requests\n",
    "import time\n",
    "import pandas as pd\n",
    "\n",
    "from selenium import webdriver\n",
    "from bs4 import BeautifulSoup\n",
    "\n",
    "# log-in\n",
    "\n",
    "google_id = input('Enter Google ID : ')\n",
    "google_pw = getpass.getpass('Enter Google PW : ')\n",
    "\n",
    "url = \"https://www.rocketpunch.com/login\"\n",
    "driver = webdriver.Chrome()\n",
    "driver.get(url)\n",
    "\n",
    "login_google = driver.find_element_by_xpath('//*[@id=\"login-main\"]/div[3]/a[2]')\n",
    "login_google.click()\n",
    "\n",
    "time.sleep(1)\n",
    "\n",
    "google_id = driver.find_element_by_xpath('//*[@id=\"identifierId\"]')\n",
    "google_id.send_keys(\"syh602\")\n",
    "\n",
    "time.sleep(1)\n",
    "\n",
    "google_id_submit = driver.find_element_by_xpath('//*[@id=\"identifierNext\"]/content')\n",
    "google_id_submit.click()\n",
    "\n",
    "time.sleep(1)\n",
    "\n",
    "google_pw = driver.find_element_by_xpath('//*[@id=\"password\"]/div[1]/div/div[1]/input')\n",
    "google_pw.send_keys(google_pw)\n",
    "\n",
    "time.sleep(1)\n",
    "\n",
    "google_pw_submit = driver.find_element_by_xpath('//*[@id=\"passwordNext\"]/content/span')\n",
    "google_pw_submit.click()\n",
    "\n",
    "time.sleep(1)\n",
    "\n",
    "# get bookmark url\n",
    "\n",
    "url = \"https://www.rocketpunch.com/@quartz/bookmark\"\n",
    "driver.get(url)\n",
    "\n",
    "time.sleep(1)\n",
    "\n",
    "# get page sourse, parse html\n",
    "html = driver.page_source\n",
    "soup = BeautifulSoup(html, 'html.parser')\n",
    "\n",
    "date_list = []\n",
    "company_list = []\n",
    "job_list = []\n",
    "salary_list = []\n",
    "condition_list = []\n",
    "special_list = []\n",
    "\n",
    "for i in range(100):\n",
    "\n",
    "    try:\n",
    "        date = soup.findAll('div', {'class': 'job-dates'})\n",
    "        date = date[i].text.split(\"\\n\")[2].strip()\n",
    "        date_list.append(date)\n",
    "\n",
    "        company = soup.findAll('div', {'class': 'company-name'})\n",
    "        company = company[i].text.split('\\n')[2].strip()\n",
    "        company_list.append(company)\n",
    "\n",
    "        job = soup.findAll('a', {'class': 'nowrap job-title'})\n",
    "        job = job[i].text\n",
    "        job_list.append(job)\n",
    "\n",
    "        salary_condition = soup.findAll('div', {'class': 'job-stat-info'})\n",
    "        salary = salary_condition[i].text.split(\"/\")[0].strip()\n",
    "        condition = salary_condition[i].text.split(\"/\")[1].strip()\n",
    "        salary_list.append(salary)\n",
    "        condition_list.append(condition)\n",
    "\n",
    "        special = soup.findAll('div', {'class': 'nowrap job-specialties'})\n",
    "        special = special[i].text\n",
    "        special_list.append(special)\n",
    "    except:\n",
    "        print(\"The loop is ended. You have %d bookmarks.\" % (i))\n",
    "        break\n",
    "\n",
    "# make dataframe, xlsx file\n",
    "data_job = pd.DataFrame(columns=['date', 'company', 'job', 'salary', 'condition', 'special'])\n",
    "data_job['date'] = date_list\n",
    "data_job['company'] = company_list\n",
    "data_job['job'] = job_list\n",
    "data_job['salary'] = salary_list\n",
    "data_job['condition'] = condition_list\n",
    "data_job['special'] = special_list\n",
    "data_job.to_excel('rocketpunch_bookmark.xlsx', sheet_name='rocketpunch_01')\n",
    "\n",
    "# quit\n",
    "driver.quit()\n"
   ]
  },
  {
   "cell_type": "markdown",
   "metadata": {},
   "source": [
    "#### "
   ]
  }
 ],
 "metadata": {
  "kernelspec": {
   "display_name": "Python 3",
   "language": "python",
   "name": "python3"
  },
  "language_info": {
   "codemirror_mode": {
    "name": "ipython",
    "version": 3
   },
   "file_extension": ".py",
   "mimetype": "text/x-python",
   "name": "python",
   "nbconvert_exporter": "python",
   "pygments_lexer": "ipython3",
   "version": "3.6.5"
  }
 },
 "nbformat": 4,
 "nbformat_minor": 2
}
