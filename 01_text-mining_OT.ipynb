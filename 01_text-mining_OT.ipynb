{
 "cells": [
  {
   "cell_type": "markdown",
   "metadata": {},
   "source": [
    "# SETUP"
   ]
  },
  {
   "cell_type": "code",
   "execution_count": 2,
   "metadata": {},
   "outputs": [],
   "source": [
    "from xml.etree.ElementTree import Element, dump"
   ]
  },
  {
   "cell_type": "markdown",
   "metadata": {},
   "source": [
    "### XML 코드 예시(Element, SubElement, dump"
   ]
  },
  {
   "cell_type": "code",
   "execution_count": 5,
   "metadata": {},
   "outputs": [
    {
     "name": "stdout",
     "output_type": "stream",
     "text": [
      "<note><to>Andrew</to></note>\n"
     ]
    }
   ],
   "source": [
    "note = Element(\"note\")\n",
    "to = Element(\"to\")\n",
    "to.text = \"Andrew\"\n",
    "\n",
    "note.append(to)\n",
    "dump(note)"
   ]
  },
  {
   "cell_type": "code",
   "execution_count": 13,
   "metadata": {},
   "outputs": [
    {
     "name": "stdout",
     "output_type": "stream",
     "text": [
      "<note />\n",
      "<note><to>Andrew</to></note>\n",
      "<note><to>Andrew</to><from>You</from></note>\n"
     ]
    }
   ],
   "source": [
    "from xml.etree.ElementTree import Element, SubElement, dump\n",
    "\n",
    "# 1\n",
    "note = Element(\"note\")\n",
    "to = Element(\"to\")\n",
    "to.text = \"Andrew\"\n",
    "dump(note)\n",
    "\n",
    "# 2\n",
    "note.append(to)\n",
    "dump(note)\n",
    "\n",
    "# 3\n",
    "SubElement(note, \"from\").text = \"You\"\n",
    "dump(note)"
   ]
  },
  {
   "cell_type": "markdown",
   "metadata": {},
   "source": [
    "### 특정 태그를 추가하거나 제거"
   ]
  },
  {
   "cell_type": "code",
   "execution_count": 14,
   "metadata": {},
   "outputs": [
    {
     "name": "stdout",
     "output_type": "stream",
     "text": [
      "<note><to>Andrew</to><document /><from>You</from></note>\n",
      "<note><to>Andrew</to><document /><News /><from>You</from></note>\n",
      "\n",
      "<note><to>Andrew</to><News /><from>You</from></note>\n"
     ]
    }
   ],
   "source": [
    "dummy1 = Element(\"document\")\n",
    "note.insert(1, dummy1)\n",
    "dump(note)\n",
    "\n",
    "dummy2 = Element(\"News\")\n",
    "note.insert(2, dummy2)\n",
    "dump(note)\n",
    "\n",
    "note.remove(dummy1)\n",
    "print()\n",
    "dump(note)"
   ]
  },
  {
   "cell_type": "markdown",
   "metadata": {},
   "source": [
    "### XML (Attribute) 추가"
   ]
  },
  {
   "cell_type": "code",
   "execution_count": 16,
   "metadata": {},
   "outputs": [],
   "source": [
    "from xml.etree.ElementTree import Element, SubElement, dump"
   ]
  },
  {
   "cell_type": "code",
   "execution_count": 17,
   "metadata": {},
   "outputs": [
    {
     "name": "stdout",
     "output_type": "stream",
     "text": [
      "<note date=\"20190114\"><to>Andrew</to><from>You</from></note>\n"
     ]
    }
   ],
   "source": [
    "note = Element(\"note\")\n",
    "to = Element(\"to\")\n",
    "to.text = \"Andrew\"\n",
    "\n",
    "note.append(to)\n",
    "SubElement(note, \"from\").text = \"You\"\n",
    "note.attrib[\"date\"] = \"20190114\"\n",
    "\n",
    "dump(note)"
   ]
  },
  {
   "cell_type": "markdown",
   "metadata": {},
   "source": [
    "### XML indent 1"
   ]
  },
  {
   "cell_type": "code",
   "execution_count": 61,
   "metadata": {},
   "outputs": [
    {
     "name": "stdout",
     "output_type": "stream",
     "text": [
      "<note date=\"20190114\"><to>Andrew</to></note>\n",
      "<note date=\"20190114\"><to>Andrew</to><from>You</from></note>\n",
      "<note date=\"20190114\"><to>Andrew</to><from>You</from><heading>Hello</heading></note>\n",
      "<note date=\"20190114\"><to>Andrew</to><from>You</from><heading>Hello</heading><body>Well come to my class</body></note>\n"
     ]
    }
   ],
   "source": [
    "note = Element(\"note\")\n",
    "note.attrib[\"date\"] = \"20190114\"\n",
    "to = Element(\"to\")\n",
    "to.text = \"Andrew\"\n",
    "note.append(to)\n",
    "dump(note)\n",
    "\n",
    "SubElement(note, \"from\").text = \"You\"\n",
    "dump(note)\n",
    "\n",
    "SubElement(note, \"heading\").text = \"Hello\"\n",
    "dump(note)\n",
    "\n",
    "SubElement(note, \"body\").text = \"Well come to my class\"\n",
    "dump(note)"
   ]
  },
  {
   "cell_type": "markdown",
   "metadata": {},
   "source": [
    "### XML indent 2"
   ]
  },
  {
   "cell_type": "code",
   "execution_count": 62,
   "metadata": {},
   "outputs": [],
   "source": [
    "def indent(elem, level=0):\n",
    "    i = \"\\n\" + level*\" \"\n",
    "    if len(elem):\n",
    "        if not elem.text or not elem.text.strip():\n",
    "            elem.text = i + \" \"\n",
    "        for elem in elem:\n",
    "            indent(elem, level+1)\n",
    "        if not elem.tail or not elem.tail.strip():\n",
    "            elem.tail = i\n",
    "            \n",
    "    else:\n",
    "        if level and (not elem.tail or not elem.tail.strip()):\n",
    "            elem.tail = i"
   ]
  },
  {
   "cell_type": "code",
   "execution_count": 63,
   "metadata": {},
   "outputs": [
    {
     "name": "stdout",
     "output_type": "stream",
     "text": [
      "<note date=\"20190114\"><to>Andrew</to><from>You</from><heading>Hello</heading><body>Well come to my class</body></note>\n"
     ]
    }
   ],
   "source": [
    "dump(note)"
   ]
  },
  {
   "cell_type": "code",
   "execution_count": 64,
   "metadata": {},
   "outputs": [
    {
     "name": "stdout",
     "output_type": "stream",
     "text": [
      "<note date=\"20190114\">\n",
      " <to>Andrew</to>\n",
      " <from>You</from>\n",
      " <heading>Hello</heading>\n",
      " <body>Well come to my class</body>\n",
      "</note>\n"
     ]
    }
   ],
   "source": [
    "indent(note)\n",
    "dump(note)"
   ]
  },
  {
   "cell_type": "markdown",
   "metadata": {},
   "source": [
    "### XML save, load"
   ]
  },
  {
   "cell_type": "code",
   "execution_count": 65,
   "metadata": {},
   "outputs": [],
   "source": [
    "# save\n",
    "\n",
    "from xml.etree.ElementTree import ElementTree\n",
    "\n",
    "ElementTree(note).write(\"CSLEE.xml\")"
   ]
  },
  {
   "cell_type": "code",
   "execution_count": 66,
   "metadata": {},
   "outputs": [
    {
     "name": "stdout",
     "output_type": "stream",
     "text": [
      "<note date=\"20190114\">\n",
      " <to>Andrew</to>\n",
      " <from>You</from>\n",
      " <heading>Hello</heading>\n",
      " <body>Well come to my class</body>\n",
      "</note>"
     ]
    }
   ],
   "source": [
    "!cat CSLEE.xml"
   ]
  },
  {
   "cell_type": "code",
   "execution_count": 68,
   "metadata": {},
   "outputs": [
    {
     "name": "stdout",
     "output_type": "stream",
     "text": [
      "<note date=\"20190114\">\n",
      " <to>Andrew</to>\n",
      " <from>You</from>\n",
      " <heading>Hello</heading>\n",
      " <body>Well come to my class</body>\n",
      "</note>\n"
     ]
    }
   ],
   "source": [
    "# load\n",
    "\n",
    "from xml.etree.ElementTree import parse\n",
    "\n",
    "tree = parse(\"CSLEE.xml\")\n",
    "note = tree.getroot()\n",
    "dump(note)"
   ]
  },
  {
   "cell_type": "markdown",
   "metadata": {},
   "source": [
    "### XML (Atrribute)"
   ]
  },
  {
   "cell_type": "code",
   "execution_count": 71,
   "metadata": {},
   "outputs": [
    {
     "name": "stdout",
     "output_type": "stream",
     "text": [
      "20190114\n",
      "default\n",
      "['date']\n",
      "[('date', '20190114')]\n"
     ]
    }
   ],
   "source": [
    "print(note.get(\"date\"))\n",
    "print(note.get(\"foo\", \"default\"))\n",
    "print(note.keys())\n",
    "print(note.items())"
   ]
  },
  {
   "cell_type": "markdown",
   "metadata": {},
   "source": [
    "### XML (XML 태그 접근)"
   ]
  },
  {
   "cell_type": "code",
   "execution_count": 72,
   "metadata": {},
   "outputs": [
    {
     "name": "stdout",
     "output_type": "stream",
     "text": [
      "<Element 'from' at 0x118259b38>\n",
      "[<Element 'from' at 0x118259b38>]\n",
      "You\n"
     ]
    }
   ],
   "source": [
    "from_tag = note.find(\"from\")\n",
    "from_tags = note.findall(\"from\")\n",
    "from_text = note.findtext(\"from\")\n",
    "\n",
    "print(from_tag)\n",
    "print(from_tags)\n",
    "print(from_text)"
   ]
  },
  {
   "cell_type": "code",
   "execution_count": null,
   "metadata": {},
   "outputs": [],
   "source": []
  },
  {
   "cell_type": "code",
   "execution_count": null,
   "metadata": {},
   "outputs": [],
   "source": []
  },
  {
   "cell_type": "code",
   "execution_count": null,
   "metadata": {},
   "outputs": [],
   "source": []
  }
 ],
 "metadata": {
  "kernelspec": {
   "display_name": "Python 3",
   "language": "python",
   "name": "python3"
  },
  "language_info": {
   "codemirror_mode": {
    "name": "ipython",
    "version": 3
   },
   "file_extension": ".py",
   "mimetype": "text/x-python",
   "name": "python",
   "nbconvert_exporter": "python",
   "pygments_lexer": "ipython3",
   "version": "3.6.5"
  }
 },
 "nbformat": 4,
 "nbformat_minor": 2
}
